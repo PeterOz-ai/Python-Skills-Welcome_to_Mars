{
 "cells": [
  {
   "cell_type": "code",
   "execution_count": 9,
   "metadata": {},
   "outputs": [],
   "source": [
    "## Individual assignment\n",
    "\n",
    "#Humanity has finally reached Mars. There are 4 colonies, and the humans are more or less adapting to life there*\n",
    "\n",
    "#The 4 cities are called `Yharnam`, `Marsdrid`, `Ironforge` and `Churroland`. Each city has its own `population`.\n",
    "\n",
    "population = {\n",
    "    'Yharnam': 1000,\n",
    "    'Marsdrid': 2000,\n",
    "    'Ironforge': 3000,\n",
    "    'Churroland': 4000,\n",
    "}\n",
    "\n",
    "#The cities are all connected to each other, with different `distances` between them (see attached PDF). \n",
    "#There are also important points for life, like the three water sources, or wells. \n",
    "# There's also a volcano that the Mars Geological Survey is monitoring. \n",
    "# All these landmarks are defined by their coordinates, which are given in the `landmarks`.\n",
    "# dictionary coordinates in kilometers\n",
    "\n",
    "landmarks = {\n",
    "    'Yharnam': (0, 0),\n",
    "    'Marsdrid': (0, 150),\n",
    "    'Ironforge': (100, 50),\n",
    "    'Churroland': (150, 100),\n",
    "    'Well 1': (0, 50),\n",
    "    'Well 2': (0, 100),\n",
    "    'Well 3': (100, 100),\n",
    "    'Volcano': (50, 100),\n",
    "}\n",
    "\n",
    "\n",
    "#Rules\n",
    "# You can use any of the tools we have seen in class, nothing else.\n",
    "# You can't share your code with anyone else.\n",
    "# 1 point per correctly solved exercise.\n",
    "# No points deducted from incorrect answers.\n",
    "# **SUBMISSION:**\n",
    "# ONE (1) JUPYTER NOTEBOOK, based on this one, with your name as the filename: `individual_assignment_daniel_garcia_hernandez.ipynb`\n",
    "# No submission will be accepted after the deadline.\n",
    "# No submission will be accepted if the description of the exercises is changed\n",
    "# No submission will be accepted if the order of the exervises is changed"
   ]
  },
  {
   "attachments": {},
   "cell_type": "markdown",
   "metadata": {},
   "source": [
    "### Exercise 1\n",
    "\n",
    "Knowing that we can calculate the distance between two points in 2-dimensional space using the formula:\n",
    "$$d = \\sqrt{(x_2 - x_1)^2 + (y_2 - y_1)^2}$$\n",
    "write a function that takes two points as input and returns the distance between them.\n",
    "\n",
    "Each point should be a tuple of two numbers `(x, y)` representing the two coordinates --horizontal and vertical-- of the point.\n",
    "\n",
    "```python\n",
    "def distance(point1, point2):\n",
    "    # Your code here\n",
    "    return distance\n",
    "```"
   ]
  },
  {
   "cell_type": "code",
   "execution_count": 10,
   "metadata": {},
   "outputs": [],
   "source": [
    "population = {\n",
    "    'Yharnam': 1000,\n",
    "    'Marsdrid': 2000,\n",
    "    'Ironforge': 3000,\n",
    "    'Churroland': 4000,\n",
    "}\n",
    "\n",
    "landmarks = {\n",
    "    'Yharnam': (0, 0),\n",
    "    'Marsdrid': (0, 150),\n",
    "    'Ironforge': (100, 50),\n",
    "    'Churroland': (150, 100),\n",
    "    'Well 1': (0, 50),\n",
    "    'Well 2': (0, 100),\n",
    "    'Well 3': (100, 100),\n",
    "    'Volcano': (50, 100),\n",
    "}"
   ]
  },
  {
   "cell_type": "code",
   "execution_count": 11,
   "metadata": {},
   "outputs": [
    {
     "data": {
      "text/plain": [
       "50.0"
      ]
     },
     "execution_count": 11,
     "metadata": {},
     "output_type": "execute_result"
    }
   ],
   "source": [
    "import math\n",
    "from math import dist   #here I try to use the math.dist function instead of input the formula.\n",
    "                                                \n",
    "def distance(point1, point2):\n",
    "    dist = math.dist(point1,point2)\n",
    "    return dist\n",
    "distance(landmarks[\"Volcano\"], landmarks[\"Well 3\"]) #here I try the function using the dict landmarks."
   ]
  },
  {
   "cell_type": "code",
   "execution_count": 12,
   "metadata": {},
   "outputs": [
    {
     "data": {
      "text/plain": [
       "664.0007530116213"
      ]
     },
     "execution_count": 12,
     "metadata": {},
     "output_type": "execute_result"
    }
   ],
   "source": [
    "distance((45,1),(709,0))"
   ]
  },
  {
   "cell_type": "code",
   "execution_count": 13,
   "metadata": {},
   "outputs": [],
   "source": [
    "def distance_1(point1, point2):         #here I apply the same idea but using the formula\n",
    "    diste = math.sqrt(((point1[0]-point2[0])**2+ (point1[1] - point2[0])**2))\n",
    "    return diste"
   ]
  },
  {
   "cell_type": "code",
   "execution_count": 14,
   "metadata": {},
   "outputs": [
    {
     "data": {
      "text/plain": [
       "970.649267243323"
      ]
     },
     "execution_count": 14,
     "metadata": {},
     "output_type": "execute_result"
    }
   ],
   "source": [
    "distance_1((45,1),(709,0))"
   ]
  },
  {
   "attachments": {},
   "cell_type": "markdown",
   "metadata": {},
   "source": [
    "### Exercise 2\n",
    "\n",
    "Now that we know how to calculate the distance between two points, we can calculate the distance between two landmarks. \n",
    "\n",
    "Write a function that takes the followning arguments:\n",
    "* `landmarks`: a dictionary with the coordinates of the landmarks\n",
    "* `landmarks_list`: a list of the landmarks we want to calculate the distance between. It should be a list of 2 strings, where each string is the name of a landmark.\n",
    "\n",
    "and returns the distance between them, using the function you wrote in the previous exercise.\n",
    "\n",
    "```python\n",
    "def distance_between_landmarks(landmarks, landmarks_list):\n",
    "    # Your code here using the distance function from exercise 1\n",
    "    return distance\n",
    "```"
   ]
  },
  {
   "cell_type": "code",
   "execution_count": 15,
   "metadata": {},
   "outputs": [],
   "source": [
    "landmarks_list = [\"Volcano\",\"Well 3\"]           #here I crate the list landmarks_list"
   ]
  },
  {
   "cell_type": "code",
   "execution_count": 16,
   "metadata": {},
   "outputs": [
    {
     "data": {
      "text/plain": [
       "list"
      ]
     },
     "execution_count": 16,
     "metadata": {},
     "output_type": "execute_result"
    }
   ],
   "source": [
    "type(landmarks_list)"
   ]
  },
  {
   "cell_type": "code",
   "execution_count": 17,
   "metadata": {},
   "outputs": [],
   "source": [
    "def distance_between_landmarks(landmarks, landmarks_list):\n",
    "    point1 = landmarks[landmarks_list[0]]\n",
    "    point2 = landmarks[landmarks_list[1]]           #here I am calling the objects from landmarks_list by position to the dictionary landmarks\n",
    "    result = distance(point1,point2)                 #here I am calling the distance(point1, point2) function\n",
    "    return result"
   ]
  },
  {
   "cell_type": "code",
   "execution_count": 18,
   "metadata": {},
   "outputs": [
    {
     "data": {
      "text/plain": [
       "50.0"
      ]
     },
     "execution_count": 18,
     "metadata": {},
     "output_type": "execute_result"
    }
   ],
   "source": [
    "distance_between_landmarks(landmarks, landmarks_list)"
   ]
  },
  {
   "attachments": {},
   "cell_type": "markdown",
   "metadata": {},
   "source": [
    "### Exercise 3\n",
    "\n",
    "Let's analyze which city has a better access to water. To do so, we need to calculate the distance between each city and each well, and then average the distances.\n",
    "\n",
    "We can do this by using a double `for` loop:\n",
    "\n",
    "```python\n",
    "dict_of_avg_distances = {}\n",
    "\n",
    "for city in cities:\n",
    "\n",
    "    distances_to_wells = []\n",
    "\n",
    "    for well in wells:\n",
    "        \n",
    "        # Calculate distance between city and well\n",
    "        # save the distance in a list with append\n",
    "\n",
    "    # sum the 3 distances in the list and divide by 3 to calculate the average\n",
    "    # add the average distance to a dictionary where the key is the city and the value is the average distance to water.\n",
    "```\n"
   ]
  },
  {
   "cell_type": "code",
   "execution_count": 19,
   "metadata": {},
   "outputs": [
    {
     "data": {
      "text/plain": [
       "{'Yharnam': 97.14045207910317,\n",
       " 'Marsdrid': 87.2677996249965,\n",
       " 'Ironforge': 87.2677996249965,\n",
       " 'Churroland': 119.37129433613966}"
      ]
     },
     "execution_count": 19,
     "metadata": {},
     "output_type": "execute_result"
    }
   ],
   "source": [
    "cities = population.keys()                       #here I am stablishing the variable cities to be the keys of the dictionary population\n",
    "wells = [\"Well 1\", \"Well 2\", \"Well 3\"]              #here I create the list wells\n",
    "\n",
    "dict_of_avg_distances = {}                  #here I create the dictionary \n",
    "\n",
    "for city in cities:                         #being the double for loop\n",
    "\n",
    "    distances_to_wells = []                 #create the list to input the calculated distances from the second loop\n",
    "\n",
    "    for well in wells:                         #here I create the second for loop\n",
    "\n",
    "        dist_land = distance_between_landmarks(landmarks,[city, well])  #here I stablish the variable dist_land to call the previous distance_between_landmarks function using the loop variables\n",
    "        distances_to_wells.append(dist_land)            #here I am adding the calculated distances into the distances_to_wells list          \n",
    "    average = sum(distances_to_wells) / len(wells)      #here I calculate the average of the each of the calculated distances using the len. function applied to the  related variable wells\n",
    "    dict_of_avg_distances[city] = average               #here I am introducing the calculated averages to the main dictionary using city as key\n",
    "dict_of_avg_distances\n",
    "\n"
   ]
  },
  {
   "attachments": {},
   "cell_type": "markdown",
   "metadata": {},
   "source": [
    "### Exercise 4\n",
    "\n",
    "Which city or cities have the best access to water? Which city or cities has the worst access to water?\n",
    "\n",
    "Hint: you can use the `min` and `max` functions to find the minimum and maximum values in a dictionary, passing the dictionary as an argument, and using the `key` argument to specify which value to use to find the minimum or maximum.\n",
    "\n",
    "```python\n",
    "dummy_dict = {\n",
    "    'city1': 10,\n",
    "    'city2': 20,\n",
    "    'city3': 30,\n",
    "}\n",
    "\n",
    "min_value = min(dummy_dict, key=dummy_dict.get)\n",
    "max_value = max(dummy_dict, key=dummy_dict.get)\n",
    "```\n",
    "Keep in mind that these functions will return the first key found with the minimum or maximum value, so if there are repeated values, it might not be the one you want."
   ]
  },
  {
   "cell_type": "code",
   "execution_count": 20,
   "metadata": {},
   "outputs": [
    {
     "name": "stdout",
     "output_type": "stream",
     "text": [
      "cities with best access :  ['Churroland']\n",
      "cities with worst access : ['Marsdrid', 'Ironforge']\n"
     ]
    }
   ],
   "source": [
    "maximum_distance = min(dict_of_avg_distances.values())  #here I am calculating the min and max from the values of the dict_of_avg_distances dictionary\n",
    "minimum_distance = max(dict_of_avg_distances.values())\n",
    "cities_with_best_access = [x for x in cities if dict_of_avg_distances[x] == minimum_distance] #here I am using list comprehension to create a list of the calculated min and max, primarily because we may find more than one min or max.\n",
    "cities_with_worst_access = [x for x in cities if dict_of_avg_distances[x] == maximum_distance]\n",
    "print(\"cities with best access : \", cities_with_best_access)\n",
    "print(\"cities with worst access :\", cities_with_worst_access)"
   ]
  },
  {
   "attachments": {},
   "cell_type": "markdown",
   "metadata": {},
   "source": [
    "### Exercise 5\n",
    "\n",
    "Now that we know which city has the best access to water, create a dictionary with the cities as keys and their distance to the volcano as values"
   ]
  },
  {
   "cell_type": "code",
   "execution_count": 21,
   "metadata": {},
   "outputs": [
    {
     "data": {
      "text/plain": [
       "{'Yharnam': 111.80339887498948,\n",
       " 'Marsdrid': 70.71067811865476,\n",
       " 'Ironforge': 70.71067811865476,\n",
       " 'Churroland': 100.0}"
      ]
     },
     "execution_count": 21,
     "metadata": {},
     "output_type": "execute_result"
    }
   ],
   "source": [
    "dict_of_dist_to_volcano = {}                #here I create the list\n",
    "\n",
    "for city in cities:                            #here I use a similar structure as before, a for loop to call the distance_between_landmarks function with the loop variable city and the key volcano.\n",
    "    distance_to_volcano = distance_between_landmarks(landmarks,[city,\"Volcano\"])\n",
    "    dict_of_dist_to_volcano[city] = distance_to_volcano #here I introduce the calculated distances to volcano in the dictionary with city as key\n",
    "dict_of_dist_to_volcano\n"
   ]
  },
  {
   "attachments": {},
   "cell_type": "markdown",
   "metadata": {},
   "source": [
    "### Exercise 6\n",
    "\n",
    "The Geological Survey found that in case of an eruption, the explosion will have a radius between 75 and 110 km.\n",
    "* In the best case scenario, the explosion will be 75 km away from the volcano.\n",
    "* In the worst case scenario, the explosion will be 110 km away from the volcano.\n",
    "\n",
    "Knowing this, which city or cities are at risk of being destroyed by the volcano in the best case scenario? Which city or cities are at risk of being destroyed by the volcano in the worst case scenario?\n",
    "\n",
    "Write a function that takes in the `landmarks` and the explosion radii in each scenario, and returns which cities are at rist of being destroyed.\n",
    "\n",
    "```python\n",
    "def cities_at_risk(landmarks, [best_case_radius, worst_case_radius]):\n",
    "    # Your code here\n",
    "    return cities_at_risk_best_case, cities_at_risk_worst_case\n",
    "```"
   ]
  },
  {
   "cell_type": "code",
   "execution_count": 22,
   "metadata": {},
   "outputs": [],
   "source": [
    "def get_volcano_dist(landmarks, cities):   #here I created this function using the previous exercise in order to call the function for the calculation\n",
    "    dict_of_dist_to_volcano = {}\n",
    "\n",
    "    for city in cities:\n",
    "        distance_to_volcano = distance_between_landmarks(landmarks,[city,\"Volcano\"])\n",
    "        dict_of_dist_to_volcano[city] = distance_to_volcano\n",
    "    return dict_of_dist_to_volcano"
   ]
  },
  {
   "cell_type": "code",
   "execution_count": 23,
   "metadata": {},
   "outputs": [
    {
     "name": "stdout",
     "output_type": "stream",
     "text": [
      "Best case scenario ['Marsdrid', 'Ironforge']\n",
      "Worst case scenario ['Marsdrid', 'Ironforge', 'Churroland']\n"
     ]
    }
   ],
   "source": [
    "def cities_at_risk(landmarks, explotion_radius):\n",
    "    best_case_scenario_cities = []   #here I crated the best and worst case scenario cities lists\n",
    "    worst_case_scenario_cities = []\n",
    "    cities = population.keys()  #here I create the variable cities using the keys of the population dictionary\n",
    "    cities_to_volcano = get_volcano_dist(landmarks, cities)  #here I create the variable cities_to_volcao calling the previous function\n",
    "    for key,val in cities_to_volcano.items():   #here I am mapping the keys and values from the dictionary created with the previously defined function\n",
    "            if val <= explotion_radius[0]:   \n",
    "                best_case_scenario_cities.append(key)   #here I introduce the results of the first if into the created list\n",
    "            if val <= explotion_radius[1]:\n",
    "                worst_case_scenario_cities.append(key)  \n",
    "    \n",
    "    return best_case_scenario_cities, worst_case_scenario_cities\n",
    "best_case, worst_case = cities_at_risk(landmarks, [75,110])\n",
    "print(\"Best case scenario\", best_case)\n",
    "print(\"Worst case scenario\", worst_case)\n"
   ]
  },
  {
   "attachments": {},
   "cell_type": "markdown",
   "metadata": {},
   "source": [
    "### Exercise 7\n",
    "\n",
    "Our worst fears have come true. The volcano has increased its activity and our geologist have estimated the radius of explosion: 90 km.\n",
    "\n",
    "We need to evacuate the cities at risk. How many people will we have to evacuate?\n",
    "\n",
    "Adapt the previous function to return the number of people at risk, passing the `population` dictionary as an argument, as well as `landmarks` and the explosion radius.\n",
    "\n",
    "```python\n",
    "def population_to_evacuate(landmarks, population, explosion_radius):\n",
    "    # Your code here\n",
    "    return people_at_risk\n",
    "```"
   ]
  },
  {
   "cell_type": "code",
   "execution_count": 24,
   "metadata": {},
   "outputs": [
    {
     "data": {
      "text/plain": [
       "5000"
      ]
     },
     "execution_count": 24,
     "metadata": {},
     "output_type": "execute_result"
    }
   ],
   "source": [
    "\n",
    "def population_to_evacuate(landmarks, population, explotion_radius):\n",
    "    pop_to_evacuate = []\n",
    "    cities = population.keys()\n",
    "    cities_to_volcano = get_volcano_dist(landmarks, cities)         #here I call the previously created function\n",
    "    for key,val in cities_to_volcano.items(): \n",
    "            if val <= explotion_radius:\n",
    "                pop_to_evacuate.append(population[key])  #here I introduce the calculated values into the created list\n",
    "    return sum(pop_to_evacuate)\n",
    "\n",
    "population_to_evacuate(landmarks, population, 90)"
   ]
  },
  {
   "attachments": {},
   "cell_type": "markdown",
   "metadata": {},
   "source": [
    "### Exercise 8\n",
    "\n",
    "Which cities are the ones we need to evacuate? Which cities are the ones we can keep?\n",
    "\n",
    "Reuse the previous function to return a dictionary with `keep` and `evacuate` as keys, and the cities as values.\n",
    "\n",
    "```python\n",
    "dict_status = {\n",
    "    'keep': [city1, city2, city3],\n",
    "    'evacuate': [city4, city5, city6],\n",
    "}\n",
    "```\n",
    "\n",
    "```python\n",
    "def status_of_cities(landmarks, explosion_radius):\n",
    "    # Your code here\n",
    "    return dict_status\n",
    "```"
   ]
  },
  {
   "cell_type": "code",
   "execution_count": 25,
   "metadata": {},
   "outputs": [
    {
     "data": {
      "text/plain": [
       "{'keep': ['Yharnam', 'Churroland'], 'evacuate': ['Marsdrid', 'Ironforge']}"
      ]
     },
     "execution_count": 25,
     "metadata": {},
     "output_type": "execute_result"
    }
   ],
   "source": [
    "\n",
    "def status_of_cities(landmarks, explotion_radius):\n",
    "    cities_to_evacuate = []                 #here I create 2 lists to enter the calculated values in the for loop\n",
    "    cities_to_keep = []\n",
    "    dict_status = {}\n",
    "    cities = population.keys()\n",
    "    cities_to_volcano = get_volcano_dist(landmarks, cities)\n",
    "    for key,val in cities_to_volcano.items(): \n",
    "            if val <= explotion_radius:\n",
    "                cities_to_evacuate.append(key)\n",
    "            else:\n",
    "                cities_to_keep.append(key)\n",
    "    dict_status[\"keep\"] = cities_to_keep                #here I stablish the 2 keys for the dictionary to relate with the calculated values\n",
    "    dict_status[\"evacuate\"] = cities_to_evacuate\n",
    "    return dict_status\n",
    "\n",
    "status_of_cities(landmarks, 90)"
   ]
  },
  {
   "attachments": {},
   "cell_type": "markdown",
   "metadata": {},
   "source": [
    "### Exercise 9: open-ended\n",
    "\n",
    "What's the best way to evacuate the cities? Let's think of the difficulty for the evacuation as the product of the population to be evacuated and the distance to which they're being evacuated.\n",
    "\n",
    "```python\n",
    "difficulty = population_to_evacuate * distance_to_safety\n",
    "```\n",
    "\n",
    "We can evacuate all the population to the same city, or we can split the population between the cities, according to the distance between their original city and the city they're being evacuated to.\n",
    "\n",
    "Use code to back your decision."
   ]
  },
  {
   "cell_type": "code",
   "execution_count": 26,
   "metadata": {},
   "outputs": [
    {
     "data": {
      "text/plain": [
       "{'Marsdrid': {'destination': 'Yharnam',\n",
       "  'population': 2000,\n",
       "  'difficulty': 300000.0},\n",
       " 'Ironforge': {'destination': 'Churroland',\n",
       "  'population': 3000,\n",
       "  'difficulty': 212132.03435596428}}"
      ]
     },
     "execution_count": 26,
     "metadata": {},
     "output_type": "execute_result"
    }
   ],
   "source": [
    "def evacuation_plan(landmarks,population,explotion_radius):\n",
    "    evacuation = {}\n",
    "    dict_status_of_cities = status_of_cities(landmarks, explotion_radius)\n",
    "    for e in dict_status_of_cities[\"evacuate\"]:\n",
    "        difficulties_ = {}\n",
    "        pop = population[e]\n",
    "        for k in dict_status_of_cities[\"keep\"]:\n",
    "            dist = distance_between_landmarks(landmarks,[e,k])\n",
    "            difficulty = pop * dist\n",
    "            difficulties_[k] = difficulty\n",
    "        min_diff = min(difficulties_.values())\n",
    "        dest =  [x for x in dict_status_of_cities[\"keep\"] if difficulties_[x] == min_diff][0]\n",
    "        evacuation[e] = {\"destination\":dest, \"population\":pop, \"difficulty\":min_diff}\n",
    "    return evacuation\n",
    "\n",
    "evacuation_plan(landmarks,population,90)\n",
    "        \n",
    "#First I created a dictionary evacuation{} where to store the different evacuation strategies, then I created the a variable to call the status_of_cities function\n",
    "#Then I insterted a for loop using the key of the previous dictionary, I created another dictionary called difficulties to insert the calculated values\n",
    "#Then I created a pop variable calling for the e variable of the loop\n",
    "#Then I crated the double loop for the keep values. Here I called the previous function tu use with the e,k varables. Then I calculated de difficulty.\n",
    "#Then I am inserting the difficulty calculation into the previous dictionary\n",
    "#Then I went to the first loop to calculate the min difficulties. Then I use list comprehension to create the list with the keep cities with min difficulties values\n",
    "#Finally I insterted the values created with the e variable to the evacuation dictionary.\n"
   ]
  }
 ],
 "metadata": {
  "kernelspec": {
   "display_name": "Python 3.9.12 ('base')",
   "language": "python",
   "name": "python3"
  },
  "language_info": {
   "codemirror_mode": {
    "name": "ipython",
    "version": 3
   },
   "file_extension": ".py",
   "mimetype": "text/x-python",
   "name": "python",
   "nbconvert_exporter": "python",
   "pygments_lexer": "ipython3",
   "version": "3.9.13"
  },
  "vscode": {
   "interpreter": {
    "hash": "3d733caf4ffc39d0fbd9a2ba54ef4b7d515956d8048931f8241efe3827fb2d1f"
   }
  }
 },
 "nbformat": 4,
 "nbformat_minor": 2
}
